{
 "cells": [
  {
   "cell_type": "code",
   "execution_count": 1,
   "metadata": {},
   "outputs": [],
   "source": [
    "import requests\n",
    "from bs4 import BeautifulSoup\n",
    "import time\n",
    "import pandas as pd\n",
    "import re\n",
    "\n",
    "from selenium import webdriver\n",
    "from selenium.webdriver.chrome.options import Options\n",
    "from selenium.common.exceptions import NoSuchElementException\n",
    "\n",
    "opts = Options()\n",
    "opts.headless = True\n",
    "driver = webdriver.Chrome('./chromedriver', options=opts)"
   ]
  },
  {
   "cell_type": "code",
   "execution_count": null,
   "metadata": {},
   "outputs": [],
   "source": [
    "url = 'https://www.skillshare.com/browse/web-development?sort=trending&seeAll=1'\n",
    "\n",
    "data = []\n",
    "driver.get(url)\n",
    "time.sleep(10)\n",
    "\n",
    "driver.find_element_by_xpath(\"//*[@id=\\\"page-wrapper\\\"]/div[1]/div[2]/div[7]/div[2]/button\").click()\n",
    "time.sleep(5)\n",
    "\n",
    "'''\n",
    "while True:\n",
    "    try:\n",
    "        #loadMoreButton = driver.find_element_by_xpath(\"//*[@id=\\\"page-wrapper\\\"]/div[1]/div[2]/div[7]/div[2]/button\")\n",
    "        time.sleep(5)\n",
    "        driver.click(loadMoreButton)\n",
    "        time.sleep(10)\n",
    "    except Exception as e:\n",
    "        print(e)\n",
    "        break\n",
    "print(\"Complete\")\n",
    "time.sleep(10)\n",
    "'''\n",
    "\n",
    "html = driver.page_source.encode('utf-8')\n",
    "soup = BeautifulSoup(html, \"html.parser\")\n",
    "\n",
    "summary = soup.find(\"ul\",{'class':'classes-list-grid row populated'})\n",
    "items = summary.find_all('div', class_ = 'col-4 class-column rendered')\n",
    "for i in items:\n",
    "    title = i.p.a.text\n",
    "    author = i.find_all('a', 'link-main no-bold title-link initialized')[0].string\n",
    "    duration = i.find_all('div', 'ss-class__stats__duration')[0].string\n",
    "    enrolled = i.find_all('span', 'ss-class__stats__stud-count')[0].string\n",
    "    link = [u['href'] for u in i.find_all('a', href=True)][0]\n",
    "\n",
    "    data.append([title, author, duration, enrolled, link])\n",
    "#time.sleep(1)\n",
    "\n",
    "df = pd.DataFrame(data, columns=['Title', 'Author', 'Duration', 'Enrolled', 'Link'])\n",
    "df.to_csv('skillshare.csv', sep = ',',encoding='utf-8-sig')\n",
    "df.head()"
   ]
  }
 ],
 "metadata": {
  "kernelspec": {
   "display_name": "Python 3",
   "language": "python",
   "name": "python3"
  },
  "language_info": {
   "codemirror_mode": {
    "name": "ipython",
    "version": 3
   },
   "file_extension": ".py",
   "mimetype": "text/x-python",
   "name": "python",
   "nbconvert_exporter": "python",
   "pygments_lexer": "ipython3",
   "version": "3.8.5"
  }
 },
 "nbformat": 4,
 "nbformat_minor": 4
}
