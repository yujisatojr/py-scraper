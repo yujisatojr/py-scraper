{
 "cells": [
  {
   "cell_type": "code",
   "execution_count": null,
   "metadata": {},
   "outputs": [],
   "source": [
    "import requests\n",
    "from bs4 import BeautifulSoup\n",
    "import time\n",
    "import pandas as pd\n",
    "import re\n",
    "\n",
    "from selenium import webdriver\n",
    "from selenium.webdriver.chrome.options import Options\n",
    "from selenium.common.exceptions import NoSuchElementException\n",
    "\n",
    "opts = Options()\n",
    "opts.headless = True\n",
    "driver = webdriver.Chrome('./chromedriver', options=opts)"
   ]
  },
  {
   "cell_type": "code",
   "execution_count": null,
   "metadata": {},
   "outputs": [],
   "source": [
    "url = 'https://alison.com/courses/it'\n",
    "\n",
    "data = []\n",
    "driver.get(url)\n",
    "time.sleep(10)\n",
    "num_pages = int(driver.find_element_by_xpath('//*[@id=\"search-heading\"]/div[2]/div[3]/ul/li[9]/a').text)\n",
    "print('Total page: ' + str(num_pages))\n",
    "for j in range(num_pages):\n",
    "    print('Page: ' + str(j + 1))\n",
    "    if j > 0:\n",
    "        driver.find_element_by_class_name(\"page-link\").click()\n",
    "        time.sleep(10)\n",
    "    else:\n",
    "        time.sleep(0)\n",
    "\n",
    "    html = driver.page_source.encode('utf-8')\n",
    "    soup = BeautifulSoup(html, \"html.parser\")\n",
    "    #print(soup)\n",
    "    summary = soup.find(\"ul\",{'search-items clearfix'})\n",
    "    items = summary.findAll('li')\n",
    "    for i in items:\n",
    "        #i.findAll('div', class_ = 'discovery-card professional-certificate col col-xl-3 mb-4 scrollable-discovery-card-spacing') is not None:\n",
    "        \n",
    "        link = [u['href'] for u in i.find_all('a', {'course-block-wrapper'}, href=True)]\n",
    "        #print(link)\n",
    "    \n",
    "        data.append([link])\n",
    "    df = pd.DataFrame(data, columns=['Link'])\n",
    "    time.sleep(1)\n",
    "\n",
    "#for i in range(len(df['Link'])):\n",
    "    #df['Link'][i] = 'https://www.edx.org' + df['Link'][i]\n",
    "df.to_csv('Alison_It_Links.csv', sep = ',',encoding='utf-8-sig')\n",
    "df.head()"
   ]
  }
 ],
 "metadata": {
  "kernelspec": {
   "display_name": "Python 3",
   "language": "python",
   "name": "python3"
  },
  "language_info": {
   "codemirror_mode": {
    "name": "ipython",
    "version": 3
   },
   "file_extension": ".py",
   "mimetype": "text/x-python",
   "name": "python",
   "nbconvert_exporter": "python",
   "pygments_lexer": "ipython3",
   "version": "3.8.5"
  }
 },
 "nbformat": 4,
 "nbformat_minor": 4
}
